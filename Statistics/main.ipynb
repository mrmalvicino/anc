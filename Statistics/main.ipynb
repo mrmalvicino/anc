{
 "cells": [
  {
   "cell_type": "markdown",
   "metadata": {},
   "source": [
    "# Subjective evaluation of active noise cancellation in headphones"
   ]
  },
  {
   "cell_type": "markdown",
   "metadata": {},
   "source": [
    "## Dummy Data Generation"
   ]
  },
  {
   "cell_type": "code",
   "execution_count": null,
   "metadata": {},
   "outputs": [],
   "source": [
    "import functions as fn\n",
    "\n",
    "samples_quantity = 30\n",
    "measurements_per_sample = 4\n",
    "\n",
    "# Estado de ANC (apagado o encendido)\n",
    "\n",
    "anc_status = fn.anc_status(samples_quantity, measurements_per_sample)\n",
    "\n",
    "# Ruido de fondo medido (65 dB o 85 dB, aproximadamente)\n",
    "\n",
    "background_noise_mean = 64\n",
    "background_noise_deviation = 2\n",
    "background_noise_max = background_noise_mean + 3 * background_noise_deviation\n",
    "delta_spl = 15\n",
    "generated_noise_spl = background_noise_max + delta_spl\n",
    "\n",
    "measured_noise = fn.measured_noise(background_noise_mean, background_noise_deviation, delta_spl, generated_noise_spl, samples_quantity, measurements_per_sample)\n",
    "\n",
    "# Nivel de ruido percibido\n",
    "\n",
    "perceived_noise = fn.perceived_noise(samples_quantity, measurements_per_sample)\n",
    "\n",
    "# Calidad de sonido percibida\n",
    "\n",
    "perceived_quality = fn.perceived_quality(samples_quantity, measurements_per_sample)"
   ]
  },
  {
   "cell_type": "code",
   "execution_count": null,
   "metadata": {},
   "outputs": [],
   "source": []
  },
  {
   "cell_type": "markdown",
   "metadata": {},
   "source": [
    "## Results Dot Plots"
   ]
  },
  {
   "cell_type": "code",
   "execution_count": null,
   "metadata": {},
   "outputs": [],
   "source": [
    "import seaborn as sns\n",
    "import matplotlib.pyplot as plt\n",
    "\n",
    "x_1 = anc_status.ravel()\n",
    "x_2 = measured_noise.ravel()\n",
    "y_1 = perceived_noise.ravel()\n",
    "y_2 = perceived_quality.ravel()"
   ]
  },
  {
   "cell_type": "markdown",
   "metadata": {},
   "source": [
    "### $X_2 \\equiv$ Measured Noise Level Dot Plot"
   ]
  },
  {
   "cell_type": "code",
   "execution_count": null,
   "metadata": {},
   "outputs": [],
   "source": [
    "y_min = background_noise_mean - 3 * background_noise_deviation - 1\n",
    "y_max = background_noise_mean + 3 * background_noise_deviation + delta_spl + 1\n",
    "\n",
    "sns.swarmplot(x = x_1, y = x_2, size = 3)\n",
    "plt.tick_params(axis = 'both', direction = 'in')\n",
    "plt.ylim(y_min, y_max)\n",
    "plt.xlabel('Estado de ANC', fontsize = 12)\n",
    "plt.ylabel('Nivel de ruido medido', fontsize = 12)\n",
    "plt.show()"
   ]
  },
  {
   "cell_type": "markdown",
   "metadata": {},
   "source": [
    "### $Y_1 \\equiv$ Perceived Noise Level Dot Plot"
   ]
  },
  {
   "cell_type": "code",
   "execution_count": null,
   "metadata": {},
   "outputs": [],
   "source": [
    "sns.swarmplot(x = x_1, y = y_1, size = 3)\n",
    "plt.tick_params(axis = 'both', direction = 'in')\n",
    "plt.ylim(0, 3)\n",
    "plt.xlabel('Estado de ANC', fontsize = 12)\n",
    "plt.ylabel('Nivel de ruido percibido', fontsize = 12)\n",
    "plt.show()"
   ]
  },
  {
   "cell_type": "markdown",
   "metadata": {},
   "source": [
    "### $Y_2 \\equiv$ Perceived Sound Quality Dot Plot"
   ]
  },
  {
   "cell_type": "code",
   "execution_count": null,
   "metadata": {},
   "outputs": [],
   "source": [
    "sns.swarmplot(x = x_1, y = y_2, size = 3)\n",
    "plt.tick_params(axis = 'both', direction = 'in')\n",
    "plt.ylim(0, 3)\n",
    "plt.xlabel('Estado de ANC', fontsize = 12)\n",
    "plt.ylabel('Calidad de sonido percibida', fontsize = 12)\n",
    "plt.show()"
   ]
  },
  {
   "cell_type": "markdown",
   "metadata": {},
   "source": [
    "## Data Validation\n",
    "\n",
    "### Box Plot"
   ]
  },
  {
   "cell_type": "code",
   "execution_count": null,
   "metadata": {},
   "outputs": [],
   "source": [
    "plt.figure(figsize=(10, 5))\n",
    "plt.subplot(1, 2, 1)\n",
    "sns.boxplot(x = x_1, y = y_1)\n",
    "plt.xlabel('Estado de ANC')\n",
    "plt.ylabel('Nivel de ruido percibido')\n",
    "\n",
    "plt.subplot(1, 2, 2)\n",
    "sns.boxplot(x = x_1, y = y_2)\n",
    "plt.xlabel('Estado de ANC')\n",
    "plt.ylabel('Calidad de sonido percibida')\n",
    "\n",
    "plt.tight_layout()\n",
    "plt.show()"
   ]
  }
 ],
 "metadata": {
  "kernelspec": {
   "display_name": "Python 3",
   "language": "python",
   "name": "python3"
  },
  "language_info": {
   "codemirror_mode": {
    "name": "ipython",
    "version": 3
   },
   "file_extension": ".py",
   "mimetype": "text/x-python",
   "name": "python",
   "nbconvert_exporter": "python",
   "pygments_lexer": "ipython3",
   "version": "3.12.3"
  }
 },
 "nbformat": 4,
 "nbformat_minor": 2
}
